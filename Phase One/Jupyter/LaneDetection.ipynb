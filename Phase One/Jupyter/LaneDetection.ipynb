{
 "cells": [
  {
   "cell_type": "markdown",
   "id": "e6c03cee-a4e8-4a82-94fc-26cc4c8a55dc",
   "metadata": {},
   "source": [
    "# <center>Lane Detection Software</center>"
   ]
  },
  {
   "cell_type": "markdown",
   "id": "fcf7bf34-c54f-4b58-bc9e-48208d8a199f",
   "metadata": {},
   "source": [
    "Prepared By:\n",
    "- Manar Mohamed Riyadh  ID: 15E0163\n",
    "- Moaaz Mostafa Hassan  ID: 16T0116"
   ]
  },
  {
   "cell_type": "markdown",
   "id": "8d31bbc8-43df-46aa-ba34-28fe78146154",
   "metadata": {},
   "source": [
    "<center><img src='overview.gif'></center>"
   ]
  },
  {
   "cell_type": "markdown",
   "id": "fca4eaa5-e26e-41f9-be31-4b6e852c34bc",
   "metadata": {},
   "source": [
    "In this program, we aim to detect the lane the car is driving in, and calculate the offset from center. As a bonus, we also calculate the radius of curvature."
   ]
  },
  {
   "cell_type": "markdown",
   "id": "0fd2118d-34be-4687-a1ad-3d8def7f3298",
   "metadata": {},
   "source": [
    "## Program Pipeline:"
   ]
  },
  {
   "cell_type": "markdown",
   "id": "7a7d543b-0f8b-4a6a-b8cb-a32bd5737f14",
   "metadata": {},
   "source": [
    "1. Camera Calibration and Undistortion\n",
    "2. Thresholding\n",
    "3. Bird's Eye View and Perspective Transformation\n",
    "4. Sliding Windows\n",
    "5. Fitting a polynomial over the lane lines and calculating offset and radius\n",
    "6. Drawing the lines\n",
    "7. Blending everything together in a final video"
   ]
  },
  {
   "cell_type": "markdown",
   "id": "c47364be-e28f-46d9-ad5b-1137b659a421",
   "metadata": {},
   "source": [
    "First we import useful libraries:"
   ]
  },
  {
   "cell_type": "code",
   "execution_count": null,
   "id": "1f659183-7844-4938-94c2-7e65a41945dd",
   "metadata": {},
   "outputs": [],
   "source": [
    "import cv2\n",
    "import os\n",
    "import os.path as path\n",
    "import matplotlib.pyplot as plt\n",
    "import collections\n",
    "from moviepy.editor import VideoFileClip\n",
    "import glob\n",
    "import numpy as np"
   ]
  },
  {
   "cell_type": "markdown",
   "id": "16587305-531b-42c4-b403-698d508a7f43",
   "metadata": {},
   "source": [
    "Then we initialize our class:class Line:\n",
    "    \"\"\"\n",
    "    Class to model a lane-line.\n",
    "    \"\"\"\n",
    "    def __init__(self, buffer_len=10):\n",
    "\n",
    "        # flag to mark if the line was detected the last iteration\n",
    "        self.detected = False\n",
    "\n",
    "        # polynomial coefficients fitted on the last iteration\n",
    "        self.last_fit_pixel = None\n",
    "        self.last_fit_meter = None\n",
    "\n",
    "        # list of polynomial coefficients of the last N iterations\n",
    "        self.recent_fits_pixel = collections.deque(maxlen=buffer_len)\n",
    "        self.recent_fits_meter = collections.deque(maxlen=2 * buffer_len)\n",
    "\n",
    "        self.radius_of_curvature = None\n",
    "\n",
    "        # store all pixels coords (x, y) of line detected\n",
    "        self.all_x = None\n",
    "        self.all_y = None\n",
    "\n",
    "    def update_line(self, new_fit_pixel, new_fit_meter, detected, clear_buffer=False):\n",
    "        \"\"\"\n",
    "        Update Line with new fitted coefficients.\n",
    "\n",
    "        :param new_fit_pixel: new polynomial coefficients (pixel)\n",
    "        :param new_fit_meter: new polynomial coefficients (meter)\n",
    "        :param detected: if the Line was detected or inferred\n",
    "        :param clear_buffer: if True, reset state\n",
    "        :return: None\n",
    "        \"\"\"\n",
    "        self.detected = detected\n",
    "\n",
    "        if clear_buffer:\n",
    "            self.recent_fits_pixel = []\n",
    "            self.recent_fits_meter = []\n",
    "\n",
    "        self.last_fit_pixel = new_fit_pixel\n",
    "        self.last_fit_meter = new_fit_meter\n",
    "\n",
    "        self.recent_fits_pixel.append(self.last_fit_pixel)\n",
    "        self.recent_fits_meter.append(self.last_fit_meter)\n",
    "\n",
    "    def draw(self, mask, color=(255, 0, 0), line_width=50, average=False):\n",
    "        \"\"\"\n",
    "        Draw the line on a color mask image.\n",
    "        \"\"\"\n",
    "        h, w, c = mask.shape\n",
    "\n",
    "        plot_y = np.linspace(0, h - 1, h)\n",
    "        coeffs = self.average_fit if average else self.last_fit_pixel\n",
    "\n",
    "        line_center = coeffs[0] * plot_y ** 2 + coeffs[1] * plot_y + coeffs[2]\n",
    "        line_left_side = line_center - line_width // 2\n",
    "        line_right_side = line_center + line_width // 2\n",
    "\n",
    "        # Some magic here to recast the x and y points into usable format for cv2.fillPoly()\n",
    "        pts_left = np.array(list(zip(line_left_side, plot_y)))\n",
    "        pts_right = np.array(np.flipud(list(zip(line_right_side, plot_y))))\n",
    "        pts = np.vstack([pts_left, pts_right])\n",
    "\n",
    "        # Draw the lane onto the warped blank image\n",
    "        return cv2.fillPoly(mask, [np.int32(pts)], color)\n",
    "\n",
    "    @property\n",
    "    # average of polynomial coefficients of the last N iterations\n",
    "    def average_fit(self):\n",
    "        return np.mean(self.recent_fits_pixel, axis=0)\n",
    "\n",
    "    @property\n",
    "    # radius of curvature of the line (averaged)\n",
    "    def curvature(self):\n",
    "        y_eval = 0\n",
    "        coeffs = self.average_fit\n",
    "        return ((1 + (2 * coeffs[0] * y_eval + coeffs[1]) ** 2) ** 1.5) / np.absolute(2 * coeffs[0])\n",
    "\n",
    "    @property\n",
    "    # radius of curvature of the line (averaged)\n",
    "    def curvature_meter(self):\n",
    "        y_eval = 0\n",
    "        coeffs = np.mean(self.recent_fits_meter, axis=0)\n",
    "        return ((1 + (2 * coeffs[0] * y_eval + coeffs[1]) ** 2) ** 1.5) / np.absolute(2 * coeffs[0])\n",
    "\n",
    "###Global Variables\n",
    "ym_per_pix = 30 / 720   # meters per pixel in y dimension\n",
    "xm_per_pix = 3.7 / 700  # meters per pixel in x dimension\n",
    "time_window = 10        # results are averaged over this number of frames\n",
    "\n",
    "processed_frames = 0                    # counter of frames processed (when processing video)\n",
    "line_lt = Line(buffer_len=time_window)  # line on the left of the lane\n",
    "line_rt = Line(buffer_len=time_window)  # line on the right of the lane\n",
    "\n",
    "yellow_HSV_th_min = np.array([0, 70, 70])\n",
    "yellow_HSV_th_max = np.array([50, 255, 255])"
   ]
  },
  {
   "cell_type": "code",
   "execution_count": 2,
   "id": "0e406636-95f4-4c00-b49f-f8f9113f1e89",
   "metadata": {},
   "outputs": [],
   "source": [
    "class Line:\n",
    "    \"\"\"\n",
    "    Class to model a lane-line.\n",
    "    \"\"\"\n",
    "    def __init__(self, buffer_len=10):\n",
    "\n",
    "        # flag to mark if the line was detected the last iteration\n",
    "        self.detected = False\n",
    "\n",
    "        # polynomial coefficients fitted on the last iteration\n",
    "        self.last_fit_pixel = None\n",
    "        self.last_fit_meter = None\n",
    "\n",
    "        # list of polynomial coefficients of the last N iterations\n",
    "        self.recent_fits_pixel = collections.deque(maxlen=buffer_len)\n",
    "        self.recent_fits_meter = collections.deque(maxlen=2 * buffer_len)\n",
    "\n",
    "        self.radius_of_curvature = None\n",
    "\n",
    "        # store all pixels coords (x, y) of line detected\n",
    "        self.all_x = None\n",
    "        self.all_y = None\n",
    "\n",
    "    def update_line(self, new_fit_pixel, new_fit_meter, detected, clear_buffer=False):\n",
    "        \"\"\"\n",
    "        Update Line with new fitted coefficients.\n",
    "\n",
    "        :param new_fit_pixel: new polynomial coefficients (pixel)\n",
    "        :param new_fit_meter: new polynomial coefficients (meter)\n",
    "        :param detected: if the Line was detected or inferred\n",
    "        :param clear_buffer: if True, reset state\n",
    "        :return: None\n",
    "        \"\"\"\n",
    "        self.detected = detected\n",
    "\n",
    "        if clear_buffer:\n",
    "            self.recent_fits_pixel = []\n",
    "            self.recent_fits_meter = []\n",
    "\n",
    "        self.last_fit_pixel = new_fit_pixel\n",
    "        self.last_fit_meter = new_fit_meter\n",
    "\n",
    "        self.recent_fits_pixel.append(self.last_fit_pixel)\n",
    "        self.recent_fits_meter.append(self.last_fit_meter)\n",
    "\n",
    "    def draw(self, mask, color=(255, 0, 0), line_width=50, average=False):\n",
    "        \"\"\"\n",
    "        Draw the line on a color mask image.\n",
    "        \"\"\"\n",
    "        h, w, c = mask.shape\n",
    "\n",
    "        plot_y = np.linspace(0, h - 1, h)\n",
    "        coeffs = self.average_fit if average else self.last_fit_pixel\n",
    "\n",
    "        line_center = coeffs[0] * plot_y ** 2 + coeffs[1] * plot_y + coeffs[2]\n",
    "        line_left_side = line_center - line_width // 2\n",
    "        line_right_side = line_center + line_width // 2\n",
    "\n",
    "        # Some magic here to recast the x and y points into usable format for cv2.fillPoly()\n",
    "        pts_left = np.array(list(zip(line_left_side, plot_y)))\n",
    "        pts_right = np.array(np.flipud(list(zip(line_right_side, plot_y))))\n",
    "        pts = np.vstack([pts_left, pts_right])\n",
    "\n",
    "        # Draw the lane onto the warped blank image\n",
    "        return cv2.fillPoly(mask, [np.int32(pts)], color)\n",
    "\n",
    "    @property\n",
    "    # average of polynomial coefficients of the last N iterations\n",
    "    def average_fit(self):\n",
    "        return np.mean(self.recent_fits_pixel, axis=0)\n",
    "\n",
    "    @property\n",
    "    # radius of curvature of the line (averaged)\n",
    "    def curvature(self):\n",
    "        y_eval = 0\n",
    "        coeffs = self.average_fit\n",
    "        return ((1 + (2 * coeffs[0] * y_eval + coeffs[1]) ** 2) ** 1.5) / np.absolute(2 * coeffs[0])\n",
    "\n",
    "    @property\n",
    "    # radius of curvature of the line (averaged)\n",
    "    def curvature_meter(self):\n",
    "        y_eval = 0\n",
    "        coeffs = np.mean(self.recent_fits_meter, axis=0)\n",
    "        return ((1 + (2 * coeffs[0] * y_eval + coeffs[1]) ** 2) ** 1.5) / np.absolute(2 * coeffs[0])\n",
    "\n",
    "###Global Variables\n",
    "ym_per_pix = 30 / 720   # meters per pixel in y dimension\n",
    "xm_per_pix = 3.7 / 700  # meters per pixel in x dimension\n",
    "time_window = 10        # results are averaged over this number of frames\n",
    "\n",
    "processed_frames = 0                    # counter of frames processed (when processing video)\n",
    "line_lt = Line(buffer_len=time_window)  # line on the left of the lane\n",
    "line_rt = Line(buffer_len=time_window)  # line on the right of the lane\n",
    "\n",
    "yellow_HSV_th_min = np.array([0, 70, 70])\n",
    "yellow_HSV_th_max = np.array([50, 255, 255])"
   ]
  },
  {
   "cell_type": "markdown",
   "id": "1595bbcc-26d1-4759-b997-27413e4ed53f",
   "metadata": {},
   "source": [
    "## 1 - Camera Calibration"
   ]
  },
  {
   "cell_type": "markdown",
   "id": "0b78e982-5709-4151-b2d9-ef520c7959be",
   "metadata": {},
   "source": [
    "<table><tr>\n",
    "<td> <img src=\"calibration_before.jpg\" alt=\"Drawing\" style=\"width: 500px;\"/> </td>\n",
    "<td> <img src=\"calibration_after.jpg\" alt=\"Drawing\" style=\"width: 500px;\"/> </td>\n",
    "</tr></table>\n"
   ]
  },
  {
   "cell_type": "markdown",
   "id": "98c72179-c2a7-46f3-a23b-d461aea01df7",
   "metadata": {},
   "source": [
    "<center>Before and after images of calibration </center>"
   ]
  },
  {
   "cell_type": "markdown",
   "id": "b64172dd-7f39-47ef-8950-7e9b72a72104",
   "metadata": {},
   "source": [
    "In this step, we use a collection of 9x6 chessboard images. We use the chessboard because the difference in brightness is very apparent, also because we have a picture of it in 2D and we can easily identify the corners."
   ]
  },
  {
   "cell_type": "markdown",
   "id": "8e01b0fb-b0b5-4f8e-8e11-c5e109b66754",
   "metadata": {},
   "source": [
    "This is done using the _calibrate_camera()_ function:"
   ]
  },
  {
   "cell_type": "code",
   "execution_count": 3,
   "id": "ddb350c3-8b03-4a93-a59c-fb0468da4f7b",
   "metadata": {},
   "outputs": [],
   "source": [
    "def calibrate_camera(calib_images_dir, verbose=False):\n",
    "    \"\"\"\n",
    "    Calibrate the camera given a directory containing calibration chessboards.\n",
    "\n",
    "    :param calib_images_dir: directory containing chessboard frames\n",
    "    :param verbose: if True, draw and show chessboard corners\n",
    "    :return: calibration parameters\n",
    "    \"\"\"\n",
    "\n",
    "    assert path.exists(calib_images_dir), '\"{}\" must exist and contain calibration images.'.format(calib_images_dir)\n",
    "\n",
    "    # prepare object points, like (0,0,0), (1,0,0), (2,0,0) ....,(6,5,0)\n",
    "    objp = np.zeros((6 * 9, 3), np.float32)\n",
    "    objp[:, :2] = np.mgrid[0:9, 0:6].T.reshape(-1, 2)\n",
    "\n",
    "    # Arrays to store object points and image points from all the images.\n",
    "    objpoints = []  # 3d points in real world space\n",
    "    imgpoints = []  # 2d points in image plane.\n",
    "\n",
    "    # Make a list of calibration images\n",
    "    images = glob.glob(path.join(calib_images_dir, 'calibration*.jpg'))\n",
    "\n",
    "    # Step through the list and search for chessboard corners\n",
    "    for filename in images:\n",
    "\n",
    "        img = cv2.imread(filename)\n",
    "        gray = cv2.cvtColor(img, cv2.COLOR_BGR2GRAY)\n",
    "\n",
    "        # Find the chessboard corners\n",
    "        pattern_found, corners = cv2.findChessboardCorners(gray, (9, 6), None)\n",
    "\n",
    "        if pattern_found is True:\n",
    "            objpoints.append(objp)\n",
    "            imgpoints.append(corners)\n",
    "\n",
    "            if verbose:\n",
    "                # Draw and display the corners\n",
    "                img = cv2.drawChessboardCorners(img, (9, 6), corners, pattern_found)\n",
    "                cv2.imshow('img',img)\n",
    "                cv2.waitKey(500)\n",
    "\n",
    "    if verbose:\n",
    "        cv2.destroyAllWindows()\n",
    "\n",
    "    ret, mtx, dist, rvecs, tvecs = cv2.calibrateCamera(objpoints, imgpoints, gray.shape[::-1], None, None)\n",
    "\n",
    "    return ret, mtx, dist, rvecs, tvecs"
   ]
  },
  {
   "cell_type": "markdown",
   "id": "60d2b4ba-656e-48aa-a74e-fe011dd2dda2",
   "metadata": {},
   "source": [
    "After using this function, we undistort the current frame using the calibration matrices."
   ]
  },
  {
   "cell_type": "markdown",
   "id": "f7dbf526-2d41-463a-876c-de427396367d",
   "metadata": {},
   "source": [
    "This is done using the _undistort()_ Function:"
   ]
  },
  {
   "cell_type": "code",
   "execution_count": 4,
   "id": "3f0bba3c-79b3-469d-ae6a-72ad00c5da8c",
   "metadata": {},
   "outputs": [],
   "source": [
    "def undistort(frame, mtx, dist, verbose=False):\n",
    "    \"\"\"\n",
    "    Undistort a frame given camera matrix and distortion coefficients.\n",
    "    :param frame: input frame\n",
    "    :param mtx: camera matrix\n",
    "    :param dist: distortion coefficients\n",
    "    :param verbose: if True, show frame before/after distortion correction\n",
    "    :return: undistorted frame\n",
    "    \"\"\"\n",
    "    frame_undistorted = cv2.undistort(frame, mtx, dist, newCameraMatrix=mtx)\n",
    "\n",
    "    if verbose:\n",
    "        fig, ax = plt.subplots(nrows=1, ncols=2)\n",
    "        ax[0].imshow(cv2.cvtColor(frame, cv2.COLOR_BGR2RGB))\n",
    "        ax[1].imshow(cv2.cvtColor(frame_undistorted, cv2.COLOR_BGR2RGB))\n",
    "        plt.show()\n",
    "\n",
    "    return frame_undistorted"
   ]
  },
  {
   "cell_type": "markdown",
   "id": "7fb5c15e-a80b-4782-ac64-36ad72f18e5b",
   "metadata": {},
   "source": [
    "***"
   ]
  },
  {
   "cell_type": "markdown",
   "id": "67f3375a-8212-4097-a67a-46e83fcebe55",
   "metadata": {},
   "source": [
    "## 2 - Thresholding"
   ]
  },
  {
   "cell_type": "markdown",
   "id": "a64825c5-a353-4eaa-acf8-42b5051fd671",
   "metadata": {},
   "source": [
    "In this step, we do 4 methods of thresholding."
   ]
  },
  {
   "cell_type": "markdown",
   "id": "31ed3eaf-a871-4783-aff6-8b39110cd29e",
   "metadata": {},
   "source": [
    "- HSV Yellow Mask Filter\n",
    "- Greyscale Histogram Equalization\n",
    "- Sobel Filter\n",
    "- Morphology"
   ]
  },
  {
   "cell_type": "markdown",
   "id": "a0b5f136-b195-4e77-8cde-76bfc0954291",
   "metadata": {},
   "source": [
    "#### HSV Yellow Mask Filter:  "
   ]
  },
  {
   "attachments": {
    "e814be6c-e0c9-41d7-8cda-7522a96679d2.png": {
     "image/png": "[encoded data removed]"
    }
   },
   "cell_type": "markdown",
   "id": "f80c3805-f373-4770-bd86-ab5215c6e0ea",
   "metadata": {},
   "source": [
    "![yellow mask.png](attachment:e814be6c-e0c9-41d7-8cda-7522a96679d2.png)"
   ]
  },
  {
   "cell_type": "markdown",
   "id": "75ed1761-6691-43f1-af6b-11bfba55f841",
   "metadata": {},
   "source": [
    "In this phase: we try to highlight the yellow lines by applying an HSV filter."
   ]
  },
  {
   "cell_type": "markdown",
   "id": "44e786a1-f107-4007-ad24-837d428a391b",
   "metadata": {},
   "source": [
    "This is done using the _thresh_frame_in_HSV()_ function."
   ]
  },
  {
   "cell_type": "code",
   "execution_count": 6,
   "id": "8fe14d28-9ff2-41ba-b967-2fde6feb08f1",
   "metadata": {},
   "outputs": [],
   "source": [
    "def thresh_frame_in_HSV(frame, min_values, max_values, verbose=False):\n",
    "    \"\"\"\n",
    "    Threshold a color frame in HSV space\n",
    "    \"\"\"\n",
    "    HSV = cv2.cvtColor(frame, cv2.COLOR_BGR2HSV)\n",
    "\n",
    "    min_th_ok = np.all(HSV > min_values, axis=2)\n",
    "    max_th_ok = np.all(HSV < max_values, axis=2)\n",
    "\n",
    "    out = np.logical_and(min_th_ok, max_th_ok)\n",
    "\n",
    "    if verbose:\n",
    "        plt.imshow(out, cmap='gray')\n",
    "        plt.show()\n",
    "\n",
    "    return out"
   ]
  },
  {
   "cell_type": "markdown",
   "id": "71203fe9-003f-4365-92c2-080160a5e505",
   "metadata": {},
   "source": [
    "#### Greyscale Histogram Equalization"
   ]
  },
  {
   "attachments": {
    "fc905ebd-0ccb-42f4-9b26-0803776bf3be.png": {
     "image/png": "[encoded data removed]"
    }
   },
   "cell_type": "markdown",
   "id": "9f52ae28-db03-4bdb-9346-91394d93aa83",
   "metadata": {},
   "source": [
    "![greyscale.png](attachment:fc905ebd-0ccb-42f4-9b26-0803776bf3be.png)"
   ]
  },
  {
   "cell_type": "markdown",
   "id": "7c68ee8b-822c-43c3-af0b-8d4fb949ba66",
   "metadata": {},
   "source": [
    "In this phase, we turn the image to greyscale, then equalize the histogram highlighting the edges as much as possible."
   ]
  },
  {
   "cell_type": "markdown",
   "id": "2458e9b3-fd2b-4568-9e65-fb92f1903809",
   "metadata": {},
   "source": [
    "This is done using the _get_binary_from_equalized_grayscale()_ Function"
   ]
  },
  {
   "cell_type": "code",
   "execution_count": 7,
   "id": "62972671-4582-4e74-9f86-f768017167d7",
   "metadata": {},
   "outputs": [],
   "source": [
    "def get_binary_from_equalized_grayscale(frame):\n",
    "    \"\"\"\n",
    "    Apply histogram equalization to an input frame, threshold it and return the (binary) result.\n",
    "    \"\"\"\n",
    "    gray = cv2.cvtColor(frame, cv2.COLOR_BGR2GRAY)\n",
    "\n",
    "    eq_global = cv2.equalizeHist(gray)\n",
    "\n",
    "    _, th = cv2.threshold(eq_global, thresh=250, maxval=255, type=cv2.THRESH_BINARY)\n",
    "\n",
    "    return th"
   ]
  },
  {
   "cell_type": "markdown",
   "id": "3c8a7264-ab76-4384-beeb-16db18f93438",
   "metadata": {},
   "source": [
    "#### Sobel Filter"
   ]
  },
  {
   "attachments": {
    "27b06465-b1ab-482f-afd3-e356f36c82db.png": {
     "image/png": "[encoded data removed]"
    }
   },
   "cell_type": "markdown",
   "id": "1ce662ed-c641-40a8-80d3-06680f6b34c5",
   "metadata": {},
   "source": [
    "![sobel.png](attachment:27b06465-b1ab-482f-afd3-e356f36c82db.png)"
   ]
  },
  {
   "cell_type": "markdown",
   "id": "6a6c3a79-603f-4473-8d5b-e8b13ccc1016",
   "metadata": {},
   "source": [
    "The sobel filter applies a gaussian blur over the image, then passes with a 3x3 kernel to highlight the edges of the image as much as possible."
   ]
  },
  {
   "cell_type": "markdown",
   "id": "d4d3d0da-a1c7-44c5-8e94-10ed80552672",
   "metadata": {},
   "source": [
    "This is done using the _thresh_frame_sobel()_ function"
   ]
  },
  {
   "cell_type": "code",
   "execution_count": 8,
   "id": "3baf1901-b72f-4cd0-bef7-dc86e3301c10",
   "metadata": {},
   "outputs": [],
   "source": [
    "def thresh_frame_sobel(frame, kernel_size):\n",
    "    \"\"\"\n",
    "    Apply Sobel edge detection to an input frame, then threshold the result\n",
    "    \"\"\"\n",
    "    gray = cv2.cvtColor(frame, cv2.COLOR_BGR2GRAY)\n",
    "\n",
    "    sobel_x = cv2.Sobel(gray, cv2.CV_64F, 1, 0, ksize=kernel_size)\n",
    "    sobel_y = cv2.Sobel(gray, cv2.CV_64F, 0, 1, ksize=kernel_size)\n",
    "\n",
    "    sobel_mag = np.sqrt(sobel_x ** 2 + sobel_y ** 2)\n",
    "    sobel_mag = np.uint8(sobel_mag / np.max(sobel_mag) * 255)\n",
    "\n",
    "    _, sobel_mag = cv2.threshold(sobel_mag, 50, 1, cv2.THRESH_BINARY)\n",
    "\n",
    "    return sobel_mag.astype(bool)\n"
   ]
  },
  {
   "cell_type": "markdown",
   "id": "26884b5d-f3c2-4884-8aae-8effbd24678e",
   "metadata": {},
   "source": [
    "#### Binarization and Morphology:"
   ]
  },
  {
   "cell_type": "markdown",
   "id": "dc76263c-c778-49d9-bfcd-2521fd49e6c1",
   "metadata": {},
   "source": [
    "In this phase, we apply a light morphology to the photo to smoothen the photo and fill the gaps, then combining all the photos together."
   ]
  },
  {
   "cell_type": "markdown",
   "id": "1ed745b7-b1ea-47a9-9b3d-648769835e03",
   "metadata": {},
   "source": [
    "For this, we use the _binarize()_ function."
   ]
  },
  {
   "cell_type": "code",
   "execution_count": 9,
   "id": "3931f71a-ff38-47d9-9471-f9b716f1e6a0",
   "metadata": {},
   "outputs": [],
   "source": [
    "def binarize(img):\n",
    "    \"\"\"\n",
    "    Convert an input frame to a binary image which highlight as most as possible the lane-lines.\n",
    "\n",
    "    :param img: input color frame\n",
    "    :param verbose: if True, show intermediate results\n",
    "    :return: binarized frame\n",
    "    \"\"\"\n",
    "    h, w = img.shape[:2]\n",
    "\n",
    "    binary = np.zeros(shape=(h, w), dtype=np.uint8)\n",
    "\n",
    "    # highlight yellow lines by threshold in HSV color space\n",
    "    HSV_yellow_mask = thresh_frame_in_HSV(img, yellow_HSV_th_min, yellow_HSV_th_max, verbose=False)\n",
    "    binary = np.logical_or(binary, HSV_yellow_mask)\n",
    "\n",
    "    # highlight white lines by thresholding the equalized frame\n",
    "    eq_white_mask = get_binary_from_equalized_grayscale(img)\n",
    "    binary = np.logical_or(binary, eq_white_mask)\n",
    "\n",
    "    # get Sobel binary mask (thresholded gradients)\n",
    "    sobel_mask = thresh_frame_sobel(img, kernel_size=9)\n",
    "    binary = np.logical_or(binary, sobel_mask)\n",
    "\n",
    "    # apply a light morphology to \"fill the gaps\" in the binary image\n",
    "    kernel = np.ones((5, 5), np.uint8)\n",
    "    closing = cv2.morphologyEx(binary.astype(np.uint8), cv2.MORPH_CLOSE, kernel)\n",
    "\n",
    "\n",
    "    return closing"
   ]
  },
  {
   "cell_type": "markdown",
   "id": "bb4646ac-ecb5-4843-8f6b-18d5a261e879",
   "metadata": {},
   "source": [
    "****"
   ]
  },
  {
   "cell_type": "markdown",
   "id": "9954e0a2-668b-43c2-b996-fa8e3838ef50",
   "metadata": {},
   "source": [
    "## 3 - Bird's Eye View"
   ]
  },
  {
   "cell_type": "markdown",
   "id": "7d1fa894-07da-4d57-8a74-b215bde9ea14",
   "metadata": {},
   "source": [
    "<center><img src='perspective_output.png'></center>"
   ]
  },
  {
   "cell_type": "markdown",
   "id": "8944183d-aa34-46f0-aa93-bf911808b82e",
   "metadata": {},
   "source": [
    "<center><img src='sliding_windows_before.png' style=\"width: 700px;\"></center>"
   ]
  },
  {
   "cell_type": "markdown",
   "id": "683cbaa8-6320-4b3b-b54c-8c17d144f747",
   "metadata": {},
   "source": [
    "In this step, we do a perspective change on the area infront of the car, to act as a region of interest. This is used to highlight the lane lines infront of the car, to eliminate any errors."
   ]
  },
  {
   "cell_type": "markdown",
   "id": "3c83888c-9a57-4e3b-af14-3d3f253d3e3d",
   "metadata": {},
   "source": [
    "This is done using the _birdeye()_ function"
   ]
  },
  {
   "cell_type": "code",
   "execution_count": 10,
   "id": "7207ed4d-d1f2-4384-a25c-21e2cbb1a5e4",
   "metadata": {},
   "outputs": [],
   "source": [
    "def birdeye(img, verbose=False):\n",
    "    \"\"\"\n",
    "    Apply perspective transform to input frame to get the bird's eye view.\n",
    "    :param img: input color frame\n",
    "    :param verbose: if True, show the transformation result\n",
    "    :return: warped image, and both forward and backward transformation matrices\n",
    "    \"\"\"\n",
    "    h, w = img.shape[:2]\n",
    "\n",
    "    src = np.float32([[w, h-10],    # br\n",
    "                      [0, h-10],    # bl\n",
    "                      [546, 460],   # tl\n",
    "                      [732, 460]])  # tr\n",
    "    dst = np.float32([[w, h],       # br\n",
    "                      [0, h],       # bl\n",
    "                      [0, 0],       # tl\n",
    "                      [w, 0]])      # tr\n",
    "\n",
    "    M = cv2.getPerspectiveTransform(src, dst)\n",
    "    Minv = cv2.getPerspectiveTransform(dst, src)\n",
    "\n",
    "    warped = cv2.warpPerspective(img, M, (w, h), flags=cv2.INTER_LINEAR)\n",
    "\n",
    "\n",
    "    return warped, M, Minv"
   ]
  },
  {
   "cell_type": "markdown",
   "id": "6fedcace-a172-4088-92db-255eb049629b",
   "metadata": {},
   "source": [
    "This returns the warped image, and also the perspective matrix and the inverse perspective matrix so we can unwarp the image later."
   ]
  },
  {
   "cell_type": "markdown",
   "id": "cab98f2c-8f59-4ad8-9db6-0e46c555074c",
   "metadata": {},
   "source": [
    "****"
   ]
  },
  {
   "cell_type": "markdown",
   "id": "24994548-936e-4f8a-ac5a-ad122cbea8ff",
   "metadata": {},
   "source": [
    "## 4- Sliding Windows Technique"
   ]
  },
  {
   "attachments": {
    "a26f6892-debb-4740-9a57-f9ba1fbe12a2.png": {
     "image/png": "[encoded data removed]"
    }
   },
   "cell_type": "markdown",
   "id": "58df3a5e-5aca-4d81-9161-081122bb4b7c",
   "metadata": {},
   "source": [
    "![sliding_windows.png](attachment:a26f6892-debb-4740-9a57-f9ba1fbe12a2.png)"
   ]
  },
  {
   "cell_type": "markdown",
   "id": "ba8ca666-62bd-4b95-b7d0-ab863a5a6215",
   "metadata": {},
   "source": [
    "In this step, we move a number of windows over the entire frame, and capturing the windows that have more than 50 pixels in them, so these are the windows with lane lines inside."
   ]
  },
  {
   "cell_type": "markdown",
   "id": "fa717089-6291-4b0c-a223-41520884169e",
   "metadata": {},
   "source": [
    "This step is used to accurately detect lane lines, so we can fit a curve inside them and determine the radius."
   ]
  },
  {
   "cell_type": "markdown",
   "id": "f181ac05-1827-4d29-a78c-4126d3e33133",
   "metadata": {},
   "source": [
    "This is done using the _get_fits_by_sliding_windows()_ function."
   ]
  },
  {
   "cell_type": "code",
   "execution_count": 11,
   "id": "72a0a088-fe7b-4c6c-8507-f18696b487e2",
   "metadata": {},
   "outputs": [],
   "source": [
    "def get_fits_by_sliding_windows(birdeye_binary, line_lt, line_rt, n_windows=9, verbose=False):\n",
    "    \"\"\"\n",
    "    Get polynomial coefficients for lane-lines detected in an binary image.\n",
    "\n",
    "    :param birdeye_binary: input bird's eye view binary image\n",
    "    :param line_lt: left lane-line previously detected\n",
    "    :param line_rt: left lane-line previously detected\n",
    "    :param n_windows: number of sliding windows used to search for the lines\n",
    "    :param verbose: if True, display intermediate output\n",
    "    :return: updated lane lines and output image\n",
    "    \"\"\"\n",
    "    height, width = birdeye_binary.shape\n",
    "\n",
    "    # Assuming you have created a warped binary image called \"binary_warped\"\n",
    "    # Take a histogram of the bottom half of the image\n",
    "    histogram = np.sum(birdeye_binary[height//2:-30, :], axis=0)\n",
    "\n",
    "    # Create an output image to draw on and  visualize the result\n",
    "    out_img = np.dstack((birdeye_binary, birdeye_binary, birdeye_binary)) * 255\n",
    "\n",
    "    # Find the peak of the left and right halves of the histogram\n",
    "    # These will be the starting point for the left and right lines\n",
    "    midpoint = len(histogram) // 2\n",
    "    leftx_base = np.argmax(histogram[:midpoint])\n",
    "    rightx_base = np.argmax(histogram[midpoint:]) + midpoint\n",
    "\n",
    "    # Set height of windows\n",
    "    window_height = np.int(height / n_windows)\n",
    "\n",
    "    # Identify the x and y positions of all nonzero pixels in the image\n",
    "    nonzero = birdeye_binary.nonzero()\n",
    "    nonzero_y = np.array(nonzero[0])\n",
    "    nonzero_x = np.array(nonzero[1])\n",
    "\n",
    "    # Current positions to be updated for each window\n",
    "    leftx_current = leftx_base\n",
    "    rightx_current = rightx_base\n",
    "\n",
    "    margin = 100  # width of the windows +/- margin\n",
    "    minpix = 50   # minimum number of pixels found to recenter window\n",
    "\n",
    "    # Create empty lists to receive left and right lane pixel indices\n",
    "    left_lane_inds = []\n",
    "    right_lane_inds = []\n",
    "\n",
    "    # Step through the windows one by one\n",
    "    for window in range(n_windows):\n",
    "        # Identify window boundaries in x and y (and right and left)\n",
    "        win_y_low = height - (window + 1) * window_height\n",
    "        win_y_high = height - window * window_height\n",
    "        win_xleft_low = leftx_current - margin\n",
    "        win_xleft_high = leftx_current + margin\n",
    "        win_xright_low = rightx_current - margin\n",
    "        win_xright_high = rightx_current + margin\n",
    "\n",
    "        # Draw the windows on the visualization image\n",
    "        cv2.rectangle(out_img, (win_xleft_low, win_y_low), (win_xleft_high, win_y_high), (0, 255, 0), 2)\n",
    "        cv2.rectangle(out_img, (win_xright_low, win_y_low), (win_xright_high, win_y_high), (0, 255, 0), 2)\n",
    "\n",
    "        # Identify the nonzero pixels in x and y within the window\n",
    "        good_left_inds = ((nonzero_y >= win_y_low) & (nonzero_y < win_y_high) & (nonzero_x >= win_xleft_low)\n",
    "                          & (nonzero_x < win_xleft_high)).nonzero()[0]\n",
    "        good_right_inds = ((nonzero_y >= win_y_low) & (nonzero_y < win_y_high) & (nonzero_x >= win_xright_low)\n",
    "                           & (nonzero_x < win_xright_high)).nonzero()[0]\n",
    "\n",
    "        # Append these indices to the lists\n",
    "        left_lane_inds.append(good_left_inds)\n",
    "        right_lane_inds.append(good_right_inds)\n",
    "\n",
    "        # If you found > minpix pixels, recenter next window on their mean position\n",
    "        if len(good_left_inds) > minpix:\n",
    "            leftx_current = np.int(np.mean(nonzero_x[good_left_inds]))\n",
    "        if len(good_right_inds) > minpix:\n",
    "            rightx_current = np.int(np.mean(nonzero_x[good_right_inds]))\n",
    "\n",
    "    # Concatenate the arrays of indices\n",
    "    left_lane_inds = np.concatenate(left_lane_inds)\n",
    "    right_lane_inds = np.concatenate(right_lane_inds)\n",
    "\n",
    "    # Extract left and right line pixel positions\n",
    "    line_lt.all_x, line_lt.all_y = nonzero_x[left_lane_inds], nonzero_y[left_lane_inds]\n",
    "    line_rt.all_x, line_rt.all_y = nonzero_x[right_lane_inds], nonzero_y[right_lane_inds]\n",
    "\n",
    "    detected = True\n",
    "    if not list(line_lt.all_x) or not list(line_lt.all_y):\n",
    "        left_fit_pixel = line_lt.last_fit_pixel\n",
    "        left_fit_meter = line_lt.last_fit_meter\n",
    "        detected = False\n",
    "    else:\n",
    "        left_fit_pixel = np.polyfit(line_lt.all_y, line_lt.all_x, 2)\n",
    "        left_fit_meter = np.polyfit(line_lt.all_y * ym_per_pix, line_lt.all_x * xm_per_pix, 2)\n",
    "\n",
    "    if not list(line_rt.all_x) or not list(line_rt.all_y):\n",
    "        right_fit_pixel = line_rt.last_fit_pixel\n",
    "        right_fit_meter = line_rt.last_fit_meter\n",
    "        detected = False\n",
    "    else:\n",
    "        right_fit_pixel = np.polyfit(line_rt.all_y, line_rt.all_x, 2)\n",
    "        right_fit_meter = np.polyfit(line_rt.all_y * ym_per_pix, line_rt.all_x * xm_per_pix, 2)\n",
    "\n",
    "    line_lt.update_line(left_fit_pixel, left_fit_meter, detected=detected)\n",
    "    line_rt.update_line(right_fit_pixel, right_fit_meter, detected=detected)\n",
    "\n",
    "    # Generate x and y values for plotting\n",
    "    ploty = np.linspace(0, height - 1, height)\n",
    "    left_fitx = left_fit_pixel[0] * ploty ** 2 + left_fit_pixel[1] * ploty + left_fit_pixel[2]\n",
    "    right_fitx = right_fit_pixel[0] * ploty ** 2 + right_fit_pixel[1] * ploty + right_fit_pixel[2]\n",
    "\n",
    "    out_img[nonzero_y[left_lane_inds], nonzero_x[left_lane_inds]] = [255, 0, 0]\n",
    "    out_img[nonzero_y[right_lane_inds], nonzero_x[right_lane_inds]] = [0, 0, 255]\n",
    "\n",
    "    return line_lt, line_rt, out_img"
   ]
  },
  {
   "cell_type": "markdown",
   "id": "92d6287c-4a70-40d1-8de1-5cd2b838b1d9",
   "metadata": {},
   "source": [
    "This function returns the left line and right line locations."
   ]
  },
  {
   "cell_type": "markdown",
   "id": "d9c748ac-935b-47af-8ad7-ae68c953e386",
   "metadata": {},
   "source": [
    "****"
   ]
  },
  {
   "cell_type": "markdown",
   "id": "9dca09c7-4830-4f02-900a-fa6ea1341934",
   "metadata": {},
   "source": [
    "## 5- Polynomial Fitting"
   ]
  },
  {
   "cell_type": "markdown",
   "id": "03697c1d-65d3-4c42-acf0-283a79b4a6ad",
   "metadata": {},
   "source": [
    "<center><img src='sliding_windows_after.png'></center>"
   ]
  },
  {
   "cell_type": "markdown",
   "id": "1b55b969-8af6-4943-88b9-5c12c55d463d",
   "metadata": {},
   "source": [
    "This step is used to fit a polynomial line over the lane lines, which helps us calculate the radius and curvature direction."
   ]
  },
  {
   "cell_type": "markdown",
   "id": "9c536471-1d2c-4bb1-960e-8157f0b0b0a4",
   "metadata": {},
   "source": [
    "This is done using the _average_fit()_ and _curvate()_ properties of the _Line()_ Class. Also in _get_fits_by_sliding_windows()_ "
   ]
  },
  {
   "cell_type": "code",
   "execution_count": 12,
   "id": "2eb62ff3-e5cf-4957-86d8-788303c6e6fd",
   "metadata": {},
   "outputs": [],
   "source": [
    "@property\n",
    "# average of polynomial coefficients of the last N iterations\n",
    "def average_fit(self):\n",
    "    return np.mean(self.recent_fits_pixel, axis=0)\n",
    "\n",
    "@property\n",
    "# radius of curvature of the line (averaged)\n",
    "def curvature(self):\n",
    "    y_eval = 0\n",
    "    coeffs = self.average_fit\n",
    "    return ((1 + (2 * coeffs[0] * y_eval + coeffs[1]) ** 2) ** 1.5) / np.absolute(2 * coeffs[0])"
   ]
  },
  {
   "cell_type": "markdown",
   "id": "8a6cbf58-8cf6-4212-8659-5ea60db563f2",
   "metadata": {},
   "source": [
    "****"
   ]
  },
  {
   "cell_type": "markdown",
   "id": "6885bf32-0596-428f-b360-b083956e250e",
   "metadata": {},
   "source": [
    "## 6 - Drawing the Lines"
   ]
  },
  {
   "cell_type": "markdown",
   "id": "f90f5049-deb6-457a-afa3-5ce8794e25e5",
   "metadata": {},
   "source": [
    "In this stage, we draw the polynomial lines over our lane lines, with a different colour and fill the road in between."
   ]
  },
  {
   "cell_type": "markdown",
   "id": "d60914dd-1666-4af4-a271-1f261cd8f67b",
   "metadata": {},
   "source": [
    "This is done using the _draw()_ function inside the _Line()_ Class"
   ]
  },
  {
   "cell_type": "code",
   "execution_count": 13,
   "id": "57c19a3f-8405-4233-8b22-e7b780cf2882",
   "metadata": {},
   "outputs": [],
   "source": [
    "def draw(self, mask, color=(255, 0, 0), line_width=50, average=False):\n",
    "        \"\"\"\n",
    "        Draw the line on a color mask image.\n",
    "        \"\"\"\n",
    "        h, w, c = mask.shape\n",
    "\n",
    "        plot_y = np.linspace(0, h - 1, h)\n",
    "        coeffs = self.average_fit if average else self.last_fit_pixel\n",
    "\n",
    "        line_center = coeffs[0] * plot_y ** 2 + coeffs[1] * plot_y + coeffs[2]\n",
    "        line_left_side = line_center - line_width // 2\n",
    "        line_right_side = line_center + line_width // 2\n",
    "\n",
    "        # Some magic here to recast the x and y points into usable format for cv2.fillPoly()\n",
    "        pts_left = np.array(list(zip(line_left_side, plot_y)))\n",
    "        pts_right = np.array(np.flipud(list(zip(line_right_side, plot_y))))\n",
    "        pts = np.vstack([pts_left, pts_right])\n",
    "\n",
    "        # Draw the lane onto the warped blank image\n",
    "        return cv2.fillPoly(mask, [np.int32(pts)], color)"
   ]
  },
  {
   "cell_type": "markdown",
   "id": "55975b9f-1760-4305-9c92-480834b7923b",
   "metadata": {},
   "source": [
    "And the _draw_back_onto_the_road()_ Function:"
   ]
  },
  {
   "cell_type": "code",
   "execution_count": 14,
   "id": "625c93bb-5901-4213-b4c9-95c8c3dc3e71",
   "metadata": {},
   "outputs": [],
   "source": [
    "def draw_back_onto_the_road(img_undistorted, Minv, line_lt, line_rt, keep_state):\n",
    "    \"\"\"\n",
    "    Draw both the drivable lane area and the detected lane-lines onto the original (undistorted) frame.\n",
    "    :param img_undistorted: original undistorted color frame\n",
    "    :param Minv: (inverse) perspective transform matrix used to re-project on original frame\n",
    "    :param line_lt: left lane-line previously detected\n",
    "    :param line_rt: right lane-line previously detected\n",
    "    :param keep_state: if True, line state is maintained\n",
    "    :return: color blend\n",
    "    \"\"\"\n",
    "    height, width, _ = img_undistorted.shape\n",
    "\n",
    "    left_fit = line_lt.average_fit if keep_state else line_lt.last_fit_pixel\n",
    "    right_fit = line_rt.average_fit if keep_state else line_rt.last_fit_pixel\n",
    "\n",
    "    # Generate x and y values for plotting\n",
    "    ploty = np.linspace(0, height - 1, height)\n",
    "    left_fitx = left_fit[0] * ploty ** 2 + left_fit[1] * ploty + left_fit[2]\n",
    "    right_fitx = right_fit[0] * ploty ** 2 + right_fit[1] * ploty + right_fit[2]\n",
    "\n",
    "    # draw road as green polygon on original frame\n",
    "    road_warp = np.zeros_like(img_undistorted, dtype=np.uint8)\n",
    "    pts_left = np.array([np.transpose(np.vstack([left_fitx, ploty]))])\n",
    "    pts_right = np.array([np.flipud(np.transpose(np.vstack([right_fitx, ploty])))])\n",
    "    pts = np.hstack((pts_left, pts_right))\n",
    "    cv2.fillPoly(road_warp, np.int_([pts]), (0, 255, 0))\n",
    "    road_dewarped = cv2.warpPerspective(road_warp, Minv, (width, height))  # Warp back to original image space\n",
    "\n",
    "    blend_onto_road = cv2.addWeighted(img_undistorted, 1., road_dewarped, 0.3, 0)\n",
    "\n",
    "    # now separately draw solid lines to highlight them\n",
    "    line_warp = np.zeros_like(img_undistorted)\n",
    "    line_warp = line_lt.draw(line_warp, color=(255, 0, 0), average=keep_state)\n",
    "    line_warp = line_rt.draw(line_warp, color=(0, 0, 255), average=keep_state)\n",
    "    line_dewarped = cv2.warpPerspective(line_warp, Minv, (width, height))\n",
    "\n",
    "    lines_mask = blend_onto_road.copy()\n",
    "    idx = np.any([line_dewarped != 0][0], axis=2)\n",
    "    lines_mask[idx] = line_dewarped[idx]\n",
    "\n",
    "    blend_onto_road = cv2.addWeighted(src1=lines_mask, alpha=0.8, src2=blend_onto_road, beta=0.5, gamma=0.)\n",
    "\n",
    "    return blend_onto_road"
   ]
  },
  {
   "cell_type": "markdown",
   "id": "3286f9c5-6253-4c6a-bbd4-9ae437e3f128",
   "metadata": {},
   "source": [
    "****"
   ]
  },
  {
   "cell_type": "markdown",
   "id": "154a402b-fd99-4645-a16f-132427720793",
   "metadata": {},
   "source": [
    "## 7 - Blending everything into final video:"
   ]
  },
  {
   "cell_type": "markdown",
   "id": "16b1541e-1edb-419c-b031-611dd348ccb2",
   "metadata": {},
   "source": [
    "In this stage, we just blend everything into the final video, and output the video in the same directory."
   ]
  },
  {
   "cell_type": "markdown",
   "id": "6dc11508-08ed-4356-9619-ad99e751cf9d",
   "metadata": {},
   "source": [
    "<center><img src='overview.gif'></center>"
   ]
  },
  {
   "cell_type": "markdown",
   "id": "f30b0e7a-cd06-48a5-9c76-af1d21c47c8b",
   "metadata": {},
   "source": [
    "This is done using the _prepare_out_blend_frame()_ Function:"
   ]
  },
  {
   "cell_type": "code",
   "execution_count": 15,
   "id": "97b5f6cb-829c-4e41-be05-5a90b7450f83",
   "metadata": {},
   "outputs": [],
   "source": [
    "def prepare_out_blend_frame(blend_on_road, img_binary, img_birdeye, img_fit, line_lt, line_rt, offset_meter):\n",
    "    \"\"\"\n",
    "    Prepare the final pretty pretty output blend, given all intermediate pipeline images\n",
    "\n",
    "    :param blend_on_road: color image of lane blend onto the road\n",
    "    :param img_binary: thresholded binary image\n",
    "    :param img_birdeye: bird's eye view of the thresholded binary image\n",
    "    :param img_fit: bird's eye view with detected lane-lines highlighted\n",
    "    :param line_lt: detected left lane-line\n",
    "    :param line_rt: detected right lane-line\n",
    "    :param offset_meter: offset from the center of the lane\n",
    "    :return: pretty blend with all images and stuff stitched\n",
    "    \"\"\"\n",
    "    h, w = blend_on_road.shape[:2]\n",
    "\n",
    "    thumb_ratio = 0.2\n",
    "    thumb_h, thumb_w = int(thumb_ratio * h), int(thumb_ratio * w)\n",
    "\n",
    "    off_x, off_y = 20, 15\n",
    "\n",
    "    # add a gray rectangle to highlight the upper area\n",
    "    mask = blend_on_road.copy()\n",
    "    mask = cv2.rectangle(mask, pt1=(0, 0), pt2=(w, thumb_h+2*off_y), color=(0, 0, 0), thickness=cv2.FILLED)\n",
    "    blend_on_road = cv2.addWeighted(src1=mask, alpha=0.2, src2=blend_on_road, beta=0.8, gamma=0)\n",
    "\n",
    "    # add thumbnail of binary image\n",
    "    thumb_binary = cv2.resize(img_binary, dsize=(thumb_w, thumb_h))\n",
    "    thumb_binary = np.dstack([thumb_binary, thumb_binary, thumb_binary]) * 255\n",
    "    blend_on_road[off_y:thumb_h+off_y, off_x:off_x+thumb_w, :] = thumb_binary\n",
    "\n",
    "    # add thumbnail of bird's eye view\n",
    "    thumb_birdeye = cv2.resize(img_birdeye, dsize=(thumb_w, thumb_h))\n",
    "    thumb_birdeye = np.dstack([thumb_birdeye, thumb_birdeye, thumb_birdeye]) * 255\n",
    "    blend_on_road[off_y:thumb_h+off_y, 2*off_x+thumb_w:2*(off_x+thumb_w), :] = thumb_birdeye\n",
    "\n",
    "    # add thumbnail of bird's eye view (lane-line highlighted)\n",
    "    thumb_img_fit = cv2.resize(img_fit, dsize=(thumb_w, thumb_h))\n",
    "    blend_on_road[off_y:thumb_h+off_y, 3*off_x+2*thumb_w:3*(off_x+thumb_w), :] = thumb_img_fit\n",
    "\n",
    "    # add text (curvature and offset info) on the upper right of the blend\n",
    "    mean_curvature_meter = np.mean([line_lt.curvature_meter, line_rt.curvature_meter])\n",
    "    font = cv2.FONT_HERSHEY_SIMPLEX\n",
    "    cv2.putText(blend_on_road, 'Curvature radius: {:.02f}m'.format(mean_curvature_meter), (860, 60), font, 0.9, (255, 255, 255), 2, cv2.LINE_AA)\n",
    "    cv2.putText(blend_on_road, 'Offset from center: {:.02f}m'.format(offset_meter), (860, 130), font, 0.9, (255, 255, 255), 2, cv2.LINE_AA)\n",
    "\n",
    "    return blend_on_road"
   ]
  },
  {
   "cell_type": "markdown",
   "id": "70875177-16e5-4efc-a98c-cf82fb3fdeb1",
   "metadata": {},
   "source": [
    "And the main code:"
   ]
  },
  {
   "cell_type": "code",
   "execution_count": null,
   "id": "5b48235f-88d0-4c83-9bb8-dbfdee541045",
   "metadata": {},
   "outputs": [],
   "source": [
    "if __name__ == '__main__':\n",
    "\n",
    "    # first things first: calibrate the camera\n",
    "    ret, mtx, dist, rvecs, tvecs = calibrate_camera(calib_images_dir='camera_cal')\n",
    "    cap = cv2.VideoCapture(\"project_video.mp4\")\n",
    "    while cap.isOpened():\n",
    "        ret, frame = cap.read()\n",
    "        final_frame = process_pipeline(frame)\n",
    "        cv2.imshow(\"Final\",final_frame)\n",
    "        if cv2.waitKey(25) & 0xFF == ord('q'):\n",
    "            break"
   ]
  },
  {
   "cell_type": "markdown",
   "id": "3a73ea68-b42a-4fa2-b9ba-bdce1f003e17",
   "metadata": {},
   "source": [
    "This outputs the video or images depending on mode typed in."
   ]
  },
  {
   "cell_type": "markdown",
   "id": "4ff661cf-d452-4d2e-9a2b-03569a4279d3",
   "metadata": {},
   "source": [
    "The _process_pipeline()_ function contains all the steps of the code."
   ]
  },
  {
   "cell_type": "markdown",
   "id": "4283751a-64d2-49bb-b818-3154786c7b20",
   "metadata": {},
   "source": [
    "****"
   ]
  }
 ],
 "metadata": {
  "kernelspec": {
   "display_name": "Python 3 (ipykernel)",
   "language": "python",
   "name": "python3"
  },
  "language_info": {
   "codemirror_mode": {
    "name": "ipython",
    "version": 3
   },
   "file_extension": ".py",
   "mimetype": "text/x-python",
   "name": "python",
   "nbconvert_exporter": "python",
   "pygments_lexer": "ipython3",
   "version": "3.10.2"
  }
 },
 "nbformat": 4,
 "nbformat_minor": 5
}
